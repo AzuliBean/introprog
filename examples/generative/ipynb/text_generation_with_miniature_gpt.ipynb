{
  "cells": [
    {
      "cell_type": "markdown",
      "metadata": {
        "id": "vavjjXLzJfz3"
      },
      "source": [
        "# Text generation with a miniature GPT\n",
        "\n",
        "**Author:** [Apoorv Nandan](https://twitter.com/NandanApoorv)<br>\n",
        "**Date created:** 2020/05/29<br>\n",
        "**Last modified:** 2020/05/29<br>\n",
        "**Description:** Implement a miniature version of GPT and train it to generate text."
      ]
    },
    {
      "cell_type": "markdown",
      "metadata": {
        "id": "JrCm8GZgJfz4"
      },
      "source": [
        "## Introduction\n",
        "\n",
        "This example demonstrates how to implement an autoregressive language model\n",
        "using a miniature version of the GPT model.\n",
        "The model consists of a single Transformer block with causal masking\n",
        "in its attention layer.\n",
        "We use the text from the IMDB sentiment classification dataset for training\n",
        "and generate new movie reviews for a given prompt.\n",
        "When using this script with your own dataset, make sure it has at least\n",
        "1 million words.\n",
        "\n",
        "This example should be run with `tf-nightly>=2.3.0-dev20200531` or\n",
        "with TensorFlow 2.3 or higher.\n",
        "\n",
        "**References:**\n",
        "\n",
        "- [GPT](https://www.semanticscholar.org/paper/Improving-Language-Understanding-by-Generative-Radford/cd18800a0fe0b668a1cc19f2ec95b5003d0a5035)\n",
        "- [GPT-2](https://www.semanticscholar.org/paper/Language-Models-are-Unsupervised-Multitask-Learners-Radford-Wu/9405cc0d6169988371b2755e573cc28650d14dfe)\n",
        "- [GPT-3](https://arxiv.org/abs/2005.14165)"
      ]
    },
    {
      "cell_type": "markdown",
      "metadata": {
        "id": "GWJLoFTfJfz5"
      },
      "source": [
        "## Setup"
      ]
    },
    {
      "cell_type": "code",
      "execution_count": 1,
      "metadata": {
        "id": "_aXTre3wJfz6"
      },
      "outputs": [],
      "source": [
        "# We set the backend to TensorFlow. The code works with\n",
        "# both `tensorflow` and `torch`. It does not work with JAX\n",
        "# due to the behavior of `jax.numpy.tile` in a jit scope\n",
        "# (used in `causal_attention_mask()`: `tile` in JAX does\n",
        "# not support a dynamic `reps` argument.\n",
        "# You can make the code work in JAX by wrapping the\n",
        "# inside of the `causal_attention_mask` function in\n",
        "# a decorator to prevent jit compilation:\n",
        "# `with jax.ensure_compile_time_eval():`.\n",
        "import os\n",
        "\n",
        "os.environ[\"KERAS_BACKEND\"] = \"tensorflow\"\n",
        "\n",
        "import keras\n",
        "from keras import layers\n",
        "from keras import ops\n",
        "from keras.layers import TextVectorization\n",
        "import numpy as np\n",
        "import os\n",
        "import string\n",
        "import random\n",
        "import tensorflow\n",
        "import tensorflow.data as tf_data\n",
        "import tensorflow.strings as tf_strings\n"
      ]
    },
    {
      "cell_type": "markdown",
      "metadata": {
        "id": "lAIDmDO9Jfz7"
      },
      "source": [
        "## Implement a Transformer block as a layer"
      ]
    },
    {
      "cell_type": "code",
      "execution_count": 2,
      "metadata": {
        "id": "0NqP_jSdJfz7"
      },
      "outputs": [],
      "source": [
        "\n",
        "def causal_attention_mask(batch_size, n_dest, n_src, dtype):\n",
        "    \"\"\"\n",
        "    Mask the upper half of the dot product matrix in self attention.\n",
        "    This prevents flow of information from future tokens to current token.\n",
        "    1's in the lower triangle, counting from the lower right corner.\n",
        "    \"\"\"\n",
        "    i = ops.arange(n_dest)[:, None]\n",
        "    j = ops.arange(n_src)\n",
        "    m = i >= j - n_src + n_dest\n",
        "    mask = ops.cast(m, dtype)\n",
        "    mask = ops.reshape(mask, [1, n_dest, n_src])\n",
        "    mult = ops.concatenate(\n",
        "        [ops.expand_dims(batch_size, -1), ops.convert_to_tensor([1, 1])], 0\n",
        "    )\n",
        "    return ops.tile(mask, mult)\n",
        "\n",
        "\n",
        "class TransformerBlock(layers.Layer):\n",
        "    def __init__(self, embed_dim, num_heads, ff_dim, rate=0.1):\n",
        "        super().__init__()\n",
        "        self.att = layers.MultiHeadAttention(num_heads, embed_dim)\n",
        "        self.ffn = keras.Sequential(\n",
        "            [\n",
        "                layers.Dense(ff_dim, activation=\"relu\"),\n",
        "                layers.Dense(embed_dim),\n",
        "            ]\n",
        "        )\n",
        "        self.layernorm1 = layers.LayerNormalization(epsilon=1e-6)\n",
        "        self.layernorm2 = layers.LayerNormalization(epsilon=1e-6)\n",
        "        self.dropout1 = layers.Dropout(rate)\n",
        "        self.dropout2 = layers.Dropout(rate)\n",
        "\n",
        "    def call(self, inputs):\n",
        "        input_shape = ops.shape(inputs)\n",
        "        batch_size = input_shape[0]\n",
        "        seq_len = input_shape[1]\n",
        "        causal_mask = causal_attention_mask(batch_size, seq_len, seq_len, \"bool\")\n",
        "        attention_output = self.att(inputs, inputs, attention_mask=causal_mask)\n",
        "        attention_output = self.dropout1(attention_output)\n",
        "        out1 = self.layernorm1(inputs + attention_output)\n",
        "        ffn_output = self.ffn(out1)\n",
        "        ffn_output = self.dropout2(ffn_output)\n",
        "        return self.layernorm2(out1 + ffn_output)\n"
      ]
    },
    {
      "cell_type": "markdown",
      "metadata": {
        "id": "iz0n1E3HJfz8"
      },
      "source": [
        "## Implement an embedding layer\n",
        "\n",
        "Create two separate embedding layers: one for tokens and one for token index\n",
        "(positions)."
      ]
    },
    {
      "cell_type": "code",
      "execution_count": 3,
      "metadata": {
        "id": "EFMvLte5Jfz8"
      },
      "outputs": [],
      "source": [
        "\n",
        "class TokenAndPositionEmbedding(layers.Layer):\n",
        "    def __init__(self, maxlen, vocab_size, embed_dim):\n",
        "        super().__init__()\n",
        "        self.token_emb = layers.Embedding(input_dim=vocab_size, output_dim=embed_dim)\n",
        "        self.pos_emb = layers.Embedding(input_dim=maxlen, output_dim=embed_dim)\n",
        "\n",
        "    def call(self, x):\n",
        "        maxlen = ops.shape(x)[-1]\n",
        "        positions = ops.arange(0, maxlen, 1)\n",
        "        positions = self.pos_emb(positions)\n",
        "        x = self.token_emb(x)\n",
        "        return x + positions\n"
      ]
    },
    {
      "cell_type": "markdown",
      "metadata": {
        "id": "js5gDzX7Jfz8"
      },
      "source": [
        "## Implement the miniature GPT model"
      ]
    },
    {
      "cell_type": "code",
      "execution_count": 4,
      "metadata": {
        "id": "nHvgbAscJfz9"
      },
      "outputs": [],
      "source": [
        "vocab_size = 20000  # Only consider the top 20k words\n",
        "maxlen = 80  # Max sequence size\n",
        "embed_dim = 256  # Embedding size for each token\n",
        "num_heads = 2  # Number of attention heads\n",
        "feed_forward_dim = 256  # Hidden layer size in feed forward network inside transformer\n",
        "\n",
        "\n",
        "def create_model():\n",
        "    inputs = layers.Input(shape=(maxlen,), dtype=\"int32\")\n",
        "    embedding_layer = TokenAndPositionEmbedding(maxlen, vocab_size, embed_dim)\n",
        "    x = embedding_layer(inputs)\n",
        "    transformer_block = TransformerBlock(embed_dim, num_heads, feed_forward_dim)\n",
        "    x = transformer_block(x)\n",
        "    outputs = layers.Dense(vocab_size)(x)\n",
        "    model = keras.Model(inputs=inputs, outputs=[outputs, x])\n",
        "    loss_fn = keras.losses.SparseCategoricalCrossentropy(from_logits=True)\n",
        "    model.compile(\n",
        "        \"adam\",\n",
        "        loss=[loss_fn, None],\n",
        "    )  # No loss and optimization based on word embeddings from transformer block\n",
        "    return model\n"
      ]
    },
    {
      "cell_type": "markdown",
      "metadata": {
        "id": "P8GuiL4aJfz-"
      },
      "source": [
        "## Prepare the data for word-level language modelling\n",
        "\n",
        "Download the IMDB dataset and combine training and validation sets for a text\n",
        "generation task."
      ]
    },
    {
      "cell_type": "code",
      "execution_count": 5,
      "metadata": {
        "id": "tx4x1UQ-Jfz-",
        "outputId": "9ee080f3-71ff-479f-e07d-cf039ae114b1",
        "colab": {
          "base_uri": "https://localhost:8080/"
        }
      },
      "outputs": [
        {
          "output_type": "stream",
          "name": "stdout",
          "text": [
            "  % Total    % Received % Xferd  Average Speed   Time    Time     Time  Current\n",
            "                                 Dload  Upload   Total   Spent    Left  Speed\n",
            "100 80.2M  100 80.2M    0     0  41.2M      0  0:00:01  0:00:01 --:--:-- 41.2M\n"
          ]
        }
      ],
      "source": [
        "!curl -O https://ai.stanford.edu/~amaas/data/sentiment/aclImdb_v1.tar.gz\n",
        "!tar -xf aclImdb_v1.tar.gz"
      ]
    },
    {
      "cell_type": "code",
      "execution_count": 6,
      "metadata": {
        "id": "VP0BjA5HJfz-",
        "outputId": "6936b54f-a88f-42af-a32e-ba8bd879ff7a",
        "colab": {
          "base_uri": "https://localhost:8080/"
        }
      },
      "outputs": [
        {
          "output_type": "stream",
          "name": "stdout",
          "text": [
            "50000 files\n"
          ]
        }
      ],
      "source": [
        "\n",
        "batch_size = 128\n",
        "\n",
        "# The dataset contains each review in a separate text file\n",
        "# The text files are present in four different folders\n",
        "# Create a list all files\n",
        "filenames = []\n",
        "directories = [\n",
        "    \"aclImdb/train/pos\",\n",
        "    \"aclImdb/train/neg\",\n",
        "    \"aclImdb/test/pos\",\n",
        "    \"aclImdb/test/neg\",\n",
        "]\n",
        "for dir in directories:\n",
        "    for f in os.listdir(dir):\n",
        "        filenames.append(os.path.join(dir, f))\n",
        "\n",
        "print(f\"{len(filenames)} files\")\n",
        "\n",
        "# Create a dataset from text files\n",
        "random.shuffle(filenames)\n",
        "text_ds = tf_data.TextLineDataset(filenames)\n",
        "text_ds = text_ds.shuffle(buffer_size=256)\n",
        "text_ds = text_ds.batch(batch_size)\n",
        "\n",
        "\n",
        "def custom_standardization(input_string):\n",
        "    \"\"\"Remove html line-break tags and handle punctuation\"\"\"\n",
        "    lowercased = tf_strings.lower(input_string)\n",
        "    stripped_html = tf_strings.regex_replace(lowercased, \"<br />\", \" \")\n",
        "    return tf_strings.regex_replace(stripped_html, f\"([{string.punctuation}])\", r\" \\1\")\n",
        "\n",
        "\n",
        "# Create a vectorization layer and adapt it to the text\n",
        "vectorize_layer = TextVectorization(\n",
        "    standardize=custom_standardization,\n",
        "    max_tokens=vocab_size - 1,\n",
        "    output_mode=\"int\",\n",
        "    output_sequence_length=maxlen + 1,\n",
        ")\n",
        "vectorize_layer.adapt(text_ds)\n",
        "vocab = vectorize_layer.get_vocabulary()  # To get words back from token indices\n",
        "\n",
        "\n",
        "def prepare_lm_inputs_labels(text):\n",
        "    \"\"\"\n",
        "    Shift word sequences by 1 position so that the target for position (i) is\n",
        "    word at position (i+1). The model will use all words up till position (i)\n",
        "    to predict the next word.\n",
        "    \"\"\"\n",
        "    text = tensorflow.expand_dims(text, -1)\n",
        "    tokenized_sentences = vectorize_layer(text)\n",
        "    x = tokenized_sentences[:, :-1]\n",
        "    y = tokenized_sentences[:, 1:]\n",
        "    return x, y\n",
        "\n",
        "\n",
        "text_ds = text_ds.map(prepare_lm_inputs_labels, num_parallel_calls=tf_data.AUTOTUNE)\n",
        "text_ds = text_ds.prefetch(tf_data.AUTOTUNE)\n"
      ]
    },
    {
      "cell_type": "markdown",
      "metadata": {
        "id": "Tn-R2MpQJfz-"
      },
      "source": [
        "## Implement a Keras callback for generating text"
      ]
    },
    {
      "cell_type": "code",
      "execution_count": 7,
      "metadata": {
        "id": "27Yuv9L_Jfz_"
      },
      "outputs": [],
      "source": [
        "\n",
        "class TextGenerator(keras.callbacks.Callback):\n",
        "    \"\"\"A callback to generate text from a trained model.\n",
        "    1. Feed some starting prompt to the model\n",
        "    2. Predict probabilities for the next token\n",
        "    3. Sample the next token and add it to the next input\n",
        "\n",
        "    Arguments:\n",
        "        max_tokens: Integer, the number of tokens to be generated after prompt.\n",
        "        start_tokens: List of integers, the token indices for the starting prompt.\n",
        "        index_to_word: List of strings, obtained from the TextVectorization layer.\n",
        "        top_k: Integer, sample from the `top_k` token predictions.\n",
        "        print_every: Integer, print after this many epochs.\n",
        "    \"\"\"\n",
        "\n",
        "    def __init__(\n",
        "        self, max_tokens, start_tokens, index_to_word, top_k=10, print_every=1\n",
        "    ):\n",
        "        self.max_tokens = max_tokens\n",
        "        self.start_tokens = start_tokens\n",
        "        self.index_to_word = index_to_word\n",
        "        self.print_every = print_every\n",
        "        self.k = top_k\n",
        "\n",
        "    def sample_from(self, logits):\n",
        "        logits, indices = ops.top_k(logits, k=self.k, sorted=True)\n",
        "        indices = np.asarray(indices).astype(\"int32\")\n",
        "        preds = keras.activations.softmax(ops.expand_dims(logits, 0))[0]\n",
        "        preds = np.asarray(preds).astype(\"float32\")\n",
        "        return np.random.choice(indices, p=preds)\n",
        "\n",
        "    def detokenize(self, number):\n",
        "        return self.index_to_word[number]\n",
        "\n",
        "    def on_epoch_end(self, epoch, logs=None):\n",
        "        start_tokens = [_ for _ in self.start_tokens]\n",
        "        if (epoch + 1) % self.print_every != 0:\n",
        "            return\n",
        "        num_tokens_generated = 0\n",
        "        tokens_generated = []\n",
        "        while num_tokens_generated <= self.max_tokens:\n",
        "            pad_len = maxlen - len(start_tokens)\n",
        "            sample_index = len(start_tokens) - 1\n",
        "            if pad_len < 0:\n",
        "                x = start_tokens[:maxlen]\n",
        "                sample_index = maxlen - 1\n",
        "            elif pad_len > 0:\n",
        "                x = start_tokens + [0] * pad_len\n",
        "            else:\n",
        "                x = start_tokens\n",
        "            x = np.array([x])\n",
        "            y, _ = self.model.predict(x, verbose=0)\n",
        "            sample_token = self.sample_from(y[0][sample_index])\n",
        "            tokens_generated.append(sample_token)\n",
        "            start_tokens.append(sample_token)\n",
        "            num_tokens_generated = len(tokens_generated)\n",
        "        txt = \" \".join(\n",
        "            [self.detokenize(_) for _ in self.start_tokens + tokens_generated]\n",
        "        )\n",
        "        print(f\"generated text:\\n{txt}\\n\")\n",
        "\n",
        "\n",
        "# Tokenize starting prompt\n",
        "word_to_index = {}\n",
        "for index, word in enumerate(vocab):\n",
        "    word_to_index[word] = index\n",
        "\n",
        "start_prompt = \"this movie is\"\n",
        "start_tokens = [word_to_index.get(_, 1) for _ in start_prompt.split()]\n",
        "num_tokens_generated = 40\n",
        "text_gen_callback = TextGenerator(num_tokens_generated, start_tokens, vocab)\n"
      ]
    },
    {
      "cell_type": "markdown",
      "metadata": {
        "id": "t_HjR6YGJfz_"
      },
      "source": [
        "## Train the model\n",
        "\n",
        "Note: This code should preferably be run on GPU."
      ]
    },
    {
      "cell_type": "code",
      "execution_count": 8,
      "metadata": {
        "id": "53E8f8-YJfz_",
        "outputId": "ce6a533b-d3e2-4337-f810-f051ee64abe9",
        "colab": {
          "base_uri": "https://localhost:8080/"
        }
      },
      "outputs": [
        {
          "output_type": "stream",
          "name": "stdout",
          "text": [
            "Epoch 1/25\n"
          ]
        },
        {
          "output_type": "stream",
          "name": "stderr",
          "text": [
            "/usr/local/lib/python3.11/dist-packages/keras/src/trainers/epoch_iterator.py:151: UserWarning: Your input ran out of data; interrupting training. Make sure that your dataset or generator can generate at least `steps_per_epoch * epochs` batches. You may need to use the `.repeat()` function when building your dataset.\n",
            "  self._interrupted_warning()\n"
          ]
        },
        {
          "output_type": "stream",
          "name": "stdout",
          "text": [
            "generated text:\n",
            "this movie is so bad it was the worst . there 's no idea of the movie to be . it , the plot is very well made in which is not one of the best part of the first of the [UNK] .\n",
            "\n",
            "391/391 - 81s - 208ms/step - loss: 5.4575\n",
            "Epoch 2/25\n",
            "generated text:\n",
            "this movie is not just a bad movie but it doesn 't even get it off with the fact that it 's not only reason i can 't get to understand that a movie could have been a [UNK] movie . but i thought\n",
            "\n",
            "391/391 - 69s - 177ms/step - loss: 4.6958\n",
            "Epoch 3/25\n",
            "generated text:\n",
            "this movie is about 10 years old . it 's not the best movie , but it is so bad that it 's really good . it 's so hard , that i was not to say . i can 't believe this is\n",
            "\n",
            "391/391 - 82s - 210ms/step - loss: 4.4519\n",
            "Epoch 4/25\n",
            "generated text:\n",
            "this movie is not a classic movie i 've read the book and the book so i can honestly say about this , this movie is not a great movie . i don 't like any movie or should watch it in the first\n",
            "\n",
            "391/391 - 82s - 209ms/step - loss: 4.2967\n",
            "Epoch 5/25\n",
            "generated text:\n",
            "this movie is really good . the acting is very bad , with a terrible script . the only thing is this a joke . it is the worst movie ever made . it 's a shame that you can 't even be laughing\n",
            "\n",
            "391/391 - 82s - 209ms/step - loss: 4.1779\n",
            "Epoch 6/25\n",
            "generated text:\n",
            "this movie is about an american movie . it 's not as the acting of the movie i thought it would be interesting to see if it was going to happen . the film was it a bit slow at the start . it\n",
            "\n",
            "391/391 - 82s - 211ms/step - loss: 4.0800\n",
            "Epoch 7/25\n",
            "generated text:\n",
            "this movie is a good example of what we are ? ? ? ? i 'm sorry to say ? well , it 's like all of the actors . the film has the same quality to the plot ? no one -liners .\n",
            "\n",
            "391/391 - 82s - 210ms/step - loss: 3.9967\n",
            "Epoch 8/25\n",
            "generated text:\n",
            "this movie is a waste of time . it has nothing but it has to be described as being a horror /thriller or a sequel . the story is a joke , that is going for it . i am surprised that the plot\n",
            "\n",
            "391/391 - 82s - 209ms/step - loss: 3.9248\n",
            "Epoch 9/25\n",
            "generated text:\n",
            "this movie is one of the best movies in my life , which is a shame . i am a fan of the movies , i have seen , but i am surprised to see this movie . it is a very good story\n",
            "\n",
            "391/391 - 82s - 211ms/step - loss: 3.8598\n",
            "Epoch 10/25\n",
            "generated text:\n",
            "this movie is great . it 's a good movie , but if you are going for it , it 's not that bad , it is a movie for me . it doesn 't really matter that fact makes you smile . it\n",
            "\n",
            "391/391 - 82s - 210ms/step - loss: 3.8010\n",
            "Epoch 11/25\n",
            "generated text:\n",
            "this movie is not funny . it is a movie about an old man who gets his job as is the kid and finds out he loves it , and has a heart for her soul . i was the only thing that could\n",
            "\n",
            "391/391 - 81s - 208ms/step - loss: 3.7488\n",
            "Epoch 12/25\n",
            "generated text:\n",
            "this movie is the first movie you know about it , the music and some of the music , which score is just a little too heavy metal , but that doesn 't even come on . i 'm not even a fan of\n",
            "\n",
            "391/391 - 82s - 209ms/step - loss: 3.7003\n",
            "Epoch 13/25\n",
            "generated text:\n",
            "this movie is a little slow in the middle of nowhere in the movie . the only reason it is that the characters are so bad that it is . the plot line is very confusing , the acting is atrocious , and the\n",
            "\n",
            "391/391 - 82s - 209ms/step - loss: 3.6570\n",
            "Epoch 14/25\n",
            "generated text:\n",
            "this movie is great . it is not a great movie , but it doesn 't get too bored and drags on and drags along with and plods along with the murky plot . i 'm not disappointed . the only thing that saved\n",
            "\n",
            "391/391 - 64s - 164ms/step - loss: 3.6160\n",
            "Epoch 15/25\n",
            "generated text:\n",
            "this movie is about a [UNK] movie , it is a sermon . a family who 's fascination with the supernatural events . while the director is a film , you can tell , that this movie was supposed to be seen in a\n",
            "\n",
            "391/391 - 83s - 213ms/step - loss: 3.5791\n",
            "Epoch 16/25\n",
            "generated text:\n",
            "this movie is just terrible , poorly acted , and worse than the [UNK] \" movie . if you are bored with the [UNK] , then you might want to [UNK] the end . . . . . . . i 'm not the\n",
            "\n",
            "391/391 - 82s - 210ms/step - loss: 3.5445\n",
            "Epoch 17/25\n",
            "generated text:\n",
            "this movie is a terrible waste of time . . . . . not to be the worst movie i ever saw and i am at it . i 'm a huge fan of the plot , and i have been in the movie\n",
            "\n",
            "391/391 - 82s - 210ms/step - loss: 3.5122\n",
            "Epoch 18/25\n",
            "generated text:\n",
            "this movie is the worst movie i have ever seen . my wife and it 's not funny . i was hoping that it would be a waste time . this movie was terrible . i am sorry to the plot - a guy\n",
            "\n",
            "391/391 - 64s - 164ms/step - loss: 3.4832\n",
            "Epoch 19/25\n",
            "generated text:\n",
            "this movie is just as bad as its a movie . a bad movie with a very good script . it was just not worth the time . the acting wasn 't the bad and the story was bad . the plot was bad\n",
            "\n",
            "391/391 - 83s - 213ms/step - loss: 3.4550\n",
            "Epoch 20/25\n",
            "generated text:\n",
            "this movie is a great movie , but that does not have the best movie ever made . it has a good story line . the music is amazing . there is a great storyline , a movie with a soundtrack . this is\n",
            "\n",
            "391/391 - 82s - 209ms/step - loss: 3.4288\n",
            "Epoch 21/25\n",
            "generated text:\n",
            "this movie is a waste of time watching it , and the story , i 'm not even close to being able to understand it . there 's a plot . . . this movie is a complete waste of time . . .\n",
            "\n",
            "391/391 - 82s - 210ms/step - loss: 3.4047\n",
            "Epoch 22/25\n",
            "generated text:\n",
            "this movie is a very good movie . there are some great action moments , and the acting is very good . i really liked the story line , but this is not a great movie .       \n",
            "\n",
            "391/391 - 82s - 209ms/step - loss: 3.3818\n",
            "Epoch 23/25\n",
            "generated text:\n",
            "this movie is one of those movies that made me want to jump into something . i don 't recall seeing the movie , but i saw it at the cinema , my surprise was an amazing story , with the exception of a\n",
            "\n",
            "391/391 - 65s - 166ms/step - loss: 3.3601\n",
            "Epoch 24/25\n",
            "generated text:\n",
            "this movie is not bad . not funny and very funny . i am not surprised to find a movie about the quality of the actors . the writing is really bad . it is really , and it is not a bad movie\n",
            "\n",
            "391/391 - 83s - 213ms/step - loss: 3.3403\n",
            "Epoch 25/25\n",
            "generated text:\n",
            "this movie is great . i love it ! ! ! ! ! ! ! ! ! [UNK] ! ! ! ! it has a great soundtrack ! ! ! ! ! ! ! ! ! ! ! ! i love , so i\n",
            "\n",
            "391/391 - 81s - 207ms/step - loss: 3.3209\n"
          ]
        },
        {
          "output_type": "execute_result",
          "data": {
            "text/plain": [
              "<keras.src.callbacks.history.History at 0x7f29a0502410>"
            ]
          },
          "metadata": {},
          "execution_count": 8
        }
      ],
      "source": [
        "model = create_model()\n",
        "\n",
        "model.fit(text_ds, verbose=2, epochs=25, callbacks=[text_gen_callback])"
      ]
    }
  ],
  "metadata": {
    "accelerator": "GPU",
    "colab": {
      "name": "text_generation_with_miniature_gpt",
      "provenance": [],
      "toc_visible": true
    },
    "kernelspec": {
      "display_name": "Python 3",
      "language": "python",
      "name": "python3"
    },
    "language_info": {
      "codemirror_mode": {
        "name": "ipython",
        "version": 3
      },
      "file_extension": ".py",
      "mimetype": "text/x-python",
      "name": "python",
      "nbconvert_exporter": "python",
      "pygments_lexer": "ipython3",
      "version": "3.7.0"
    }
  },
  "nbformat": 4,
  "nbformat_minor": 0
}